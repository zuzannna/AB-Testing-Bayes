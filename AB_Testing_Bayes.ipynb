{
 "cells": [
  {
   "cell_type": "code",
   "execution_count": 1,
   "metadata": {
    "collapsed": false
   },
   "outputs": [
    {
     "name": "stderr",
     "output_type": "stream",
     "text": [
      "/Library/Python/2.7/site-packages/matplotlib/__init__.py:872: UserWarning: axes.color_cycle is deprecated and replaced with axes.prop_cycle; please use the latter.\n",
      "  warnings.warn(self.msg_depr % (key, alt_key))\n"
     ]
    }
   ],
   "source": [
    "import pandas as pd\n",
    "from scipy import stats\n",
    "import numpy as np\n",
    "from scipy.stats import ttest_ind\n",
    "import matplotlib.pyplot as plt\n",
    "import seaborn as sns\n",
    "import pymc3 as pm\n",
    "\n",
    "%matplotlib inline"
   ]
  },
  {
   "cell_type": "code",
   "execution_count": 2,
   "metadata": {
    "collapsed": false
   },
   "outputs": [],
   "source": [
    "df = pd.read_csv('events_log_.csv', parse_dates=['timestamp'], index_col='timestamp')"
   ]
  },
  {
   "cell_type": "code",
   "execution_count": 32,
   "metadata": {
    "collapsed": false
   },
   "outputs": [],
   "source": [
    "def CRT(df):\n",
    "    clickthroughrate = float(len(df['action'][df['action'] == 'visitPage'])) / float(len(df['action'][df['action'] == 'searchResultPage']))\n",
    "    return clickthroughrate\n",
    "\n",
    "def ZeroResultsRate(df):\n",
    "    zero_results_rate = (float(len(d['n_results'][d['n_results'] == 0])) / float(len(d['action'][d['action'] == 'searchResultPage'])))\n",
    "    return zero_results_rate\n",
    "\n",
    "def bars(list_means, list_errors, title, ylabel):\n",
    "    bar_width = 0.35\n",
    "    \n",
    "    index = np.arange(3)\n",
    "    rects = ax.bar(range(len(list_means)), list_means, bar_width, color='k', yerr=list_errors, alpha=0.5, error_kw=dict(ecolor='black', lw=2, capsize=5, capthick=2))\n",
    "\n",
    "    plt.title(title,size=15)\n",
    "    plt.xticks(index + bar_width / 2,('Overall', 'Group A','Group B'),size=13)\n",
    "    plt.ylabel(ylabel,size=13)\n",
    "    plt.yticks(np.round(np.linspace(0,max(list_means)+0.05,6),1),size=13)\n",
    "    plt.legend()\n",
    "    \n",
    "def pairs_bars(series_A, series_B, title, ylabel):\n",
    "    bar_width = 0.35\n",
    "    index = np.arange(8)\n",
    "    rects1 = plt.bar(index, series_A, bar_width,\n",
    "                     alpha=0.5,\n",
    "                     color='b',\n",
    "                     label='A')\n",
    "    rects2 = plt.bar(index + bar_width, series_B, bar_width,\n",
    "                     alpha=0.5,\n",
    "                     color='r',\n",
    "                     label='B')\n",
    "\n",
    "    plt.title(title, size=15)\n",
    "    plt.ylim([0, 1])\n",
    "    plt.ylabel(ylabel, size=13)\n",
    "    plt.xlabel('Day', size=13)\n",
    "    plt.xticks(index + bar_width / 2, ('1', '2', '3', '4', '5','6','7','8'))\n",
    "\n",
    "    plt.tight_layout()\n",
    "    plt.legend()\n",
    "    \n",
    "def get_mean_error(overall, groupA, groupB):\n",
    "    \n",
    "    mean_o = sum(overall)/len(overall)\n",
    "    mean_A = sum(groupA)/len(groupA)\n",
    "    mean_B = sum(groupB)/len(groupB)\n",
    "\n",
    "    error_o = stats.sem(overall)\n",
    "    error_A = stats.sem(groupA)\n",
    "    error_B = stats.sem(groupB)\n",
    "    \n",
    "    mean_ = [mean_o, mean_A, mean_B]\n",
    "    error_ = [error_o, error_A, error_B]\n",
    "    \n",
    "    return mean_,error_\n",
    "\n",
    "def get_session_length(dataframe):\n",
    "    first_action = dataframe.sort_index().groupby(['session_id'], sort=True, as_index=False).nth(0).drop(['uuid','page_id','Unnamed: 0'],axis=1)\n",
    "    first_action['time'] = first_action.index.to_pydatetime()\n",
    "    last_action = dataframe.sort_index().groupby(['session_id'], as_index=False, sort=True).nth(-1).drop(['page_id','uuid','Unnamed: 0'],axis=1)\n",
    "    last_action['time'] = last_action.index.to_pydatetime()\n",
    "    last_action.sort_values('session_id').head()\n",
    "    session_start_end = pd.merge(first_action, last_action, on = ['session_id','group'], suffixes=('_first_action','_last_action'))\n",
    "    session_start_end['session_length'] = session_start_end['time_last_action'] - session_start_end['time_first_action']\n",
    "    session_start_end['session_lenght_seconds'] = session_start_end['session_length'].apply(lambda row: row.seconds)\n",
    "    return session_start_end"
   ]
  },
  {
   "cell_type": "code",
   "execution_count": 19,
   "metadata": {
    "collapsed": false
   },
   "outputs": [],
   "source": [
    "crt_ = []\n",
    "crtA = []\n",
    "crtB = []\n",
    "\n",
    "zr = []\n",
    "zrA = []\n",
    "zrB = []\n",
    "\n",
    "for i, d in df.groupby(df.index.day):\n",
    "    crt_.append(CRT(d))\n",
    "    zr.append(ZeroResultsRate(d))\n",
    "        \n",
    "for i, d in df.groupby([df.index.day,df.group]):\n",
    "    if d['group'][0] == 'a':\n",
    "        crtA.append(CRT(d))\n",
    "        zrA.append(ZeroResultsRate(d))\n",
    "    else:\n",
    "        crtB.append(CRT(d))\n",
    "        zrB.append(ZeroResultsRate(d))\n"
   ]
  },
  {
   "cell_type": "code",
   "execution_count": 24,
   "metadata": {
    "collapsed": false
   },
   "outputs": [],
   "source": [
    "crtMeans, crtErrors = get_mean_error(crt_,crtA,crtB)\n",
    "zrMeans, zrErrors = get_mean_error(zr,zrA,zrB)"
   ]
  },
  {
   "cell_type": "code",
   "execution_count": 39,
   "metadata": {
    "collapsed": false
   },
   "outputs": [
    {
     "data": {
      "image/png": "[encoded data removed]",
      "text/plain": [
       "<matplotlib.figure.Figure at 0x119ece550>"
      ]
     },
     "metadata": {},
     "output_type": "display_data"
    }
   ],
   "source": [
    "fig = plt.figure(figsize = [12,8])\n",
    "\n",
    "ax = fig.add_subplot(221)\n",
    "title = 'Clickthrough rate'\n",
    "ylabel = 'CTR'\n",
    "bars(crtMeans, crtErrors, title, ylabel)\n",
    "\n",
    "ax = fig.add_subplot(222)\n",
    "title = 'Daily clickthrough rate'\n",
    "ylabel = 'CTR'\n",
    "pairs_bars(crtA, crtB, title, ylabel)\n",
    "\n",
    "ax = fig.add_subplot(223)\n",
    "title2 = 'Zero results rate'\n",
    "ylabel2 = 'ZR'\n",
    "bars(zrMeans, zrErrors, title2, ylabel2)\n",
    "\n",
    "ax = fig.add_subplot(224)\n",
    "title2 = 'Daily zero results rate'\n",
    "ylabel2 = 'ZR'\n",
    "pairs_bars(zrA, zrB, title2, ylabel2)\n",
    "\n",
    "plt.tight_layout()\n",
    "plt.show()"
   ]
  },
  {
   "cell_type": "markdown",
   "metadata": {},
   "source": [
    "# Session length"
   ]
  },
  {
   "cell_type": "code",
   "execution_count": 7,
   "metadata": {
    "collapsed": false
   },
   "outputs": [],
   "source": [
    "b = df[df['group'] == 'b']\n",
    "b_length = get_session_length(b)\n",
    "\n",
    "a = df[df['group'] == 'a']\n",
    "a_length = get_session_length(a)\n",
    "\n",
    "all_length = get_session_length(df)\n"
   ]
  },
  {
   "cell_type": "code",
   "execution_count": 10,
   "metadata": {
    "collapsed": false
   },
   "outputs": [],
   "source": [
    "sessionMeans, sessionErrors = get_mean_error(all_length.session_lenght_seconds,a_length.session_lenght_seconds,b_length.session_lenght_seconds)"
   ]
  },
  {
   "cell_type": "code",
   "execution_count": 9,
   "metadata": {
    "collapsed": false
   },
   "outputs": [
    {
     "name": "stderr",
     "output_type": "stream",
     "text": [
      "/Library/Python/2.7/site-packages/matplotlib/axes/_axes.py:519: UserWarning: No labelled objects found. Use label='...' kwarg on individual plots.\n",
      "  warnings.warn(\"No labelled objects found. \"\n"
     ]
    },
    {
     "data": {
      "image/png": "[encoded data removed]",
      "text/plain": [
       "<matplotlib.figure.Figure at 0x1204c5450>"
      ]
     },
     "metadata": {},
     "output_type": "display_data"
    }
   ],
   "source": [
    "fig = plt.figure(figsize = [6,4])\n",
    "\n",
    "ax = fig.add_subplot(121)\n",
    "title = 'Average session length'\n",
    "ylabel = 'Session lenght [s]'\n",
    "bars(means, errors, title, ylabel)\n",
    "\n",
    "ax = fig.add_subplot(122)\n",
    "\n",
    "ax = fig.add_subplot(121)\n",
    "title = 'Average session length'\n",
    "ylabel = 'Session lenght [s]'\n",
    "bars(means, errors, title, ylabel)\n",
    "\n"
   ]
  },
  {
   "cell_type": "markdown",
   "metadata": {},
   "source": [
    "# Hypothesis testing"
   ]
  },
  {
   "cell_type": "code",
   "execution_count": 30,
   "metadata": {
    "collapsed": false
   },
   "outputs": [
    {
     "data": {
      "text/plain": [
       "(27.953329196018842, 1.9236385541463738e-170)"
      ]
     },
     "execution_count": 30,
     "metadata": {},
     "output_type": "execute_result"
    }
   ],
   "source": [
    "ttest_ind(a_length.session_lenght_seconds,b_length.session_lenght_seconds, equal_var=False)"
   ]
  },
  {
   "cell_type": "code",
   "execution_count": null,
   "metadata": {
    "collapsed": true
   },
   "outputs": [],
   "source": []
  }
 ],
 "metadata": {
  "kernelspec": {
   "display_name": "Python 2",
   "language": "python",
   "name": "python2"
  },
  "language_info": {
   "codemirror_mode": {
    "name": "ipython",
    "version": 2
   },
   "file_extension": ".py",
   "mimetype": "text/x-python",
   "name": "python",
   "nbconvert_exporter": "python",
   "pygments_lexer": "ipython2",
   "version": "2.7.10"
  }
 },
 "nbformat": 4,
 "nbformat_minor": 0
}
