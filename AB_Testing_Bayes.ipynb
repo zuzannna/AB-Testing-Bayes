{
 "cells": [
  {
   "cell_type": "code",
   "execution_count": 69,
   "metadata": {
    "collapsed": false
   },
   "outputs": [],
   "source": [
    "import pandas as pd\n",
    "from scipy import stats\n",
    "import numpy as np\n",
    "import matplotlib.pyplot as plt\n",
    "\n",
    "%matplotlib inline"
   ]
  },
  {
   "cell_type": "code",
   "execution_count": 70,
   "metadata": {
    "collapsed": true
   },
   "outputs": [],
   "source": [
    "df = pd.read_csv('events_log_.csv', parse_dates=['timestamp'], index_col='timestamp')"
   ]
  },
  {
   "cell_type": "code",
   "execution_count": 71,
   "metadata": {
    "collapsed": false
   },
   "outputs": [
    {
     "data": {
      "text/html": [
       "<div>\n",
       "<table border=\"1\" class=\"dataframe\">\n",
       "  <thead>\n",
       "    <tr style=\"text-align: right;\">\n",
       "      <th></th>\n",
       "      <th>Unnamed: 0</th>\n",
       "      <th>Unnamed: 0.1</th>\n",
       "      <th>uuid</th>\n",
       "      <th>session_id</th>\n",
       "      <th>group</th>\n",
       "      <th>action</th>\n",
       "      <th>checkin</th>\n",
       "      <th>page_id</th>\n",
       "      <th>n_results</th>\n",
       "      <th>result_position</th>\n",
       "    </tr>\n",
       "    <tr>\n",
       "      <th>timestamp</th>\n",
       "      <th></th>\n",
       "      <th></th>\n",
       "      <th></th>\n",
       "      <th></th>\n",
       "      <th></th>\n",
       "      <th></th>\n",
       "      <th></th>\n",
       "      <th></th>\n",
       "      <th></th>\n",
       "      <th></th>\n",
       "    </tr>\n",
       "  </thead>\n",
       "  <tbody>\n",
       "    <tr>\n",
       "      <th>2016-03-01 10:38:42</th>\n",
       "      <td>0</td>\n",
       "      <td>0</td>\n",
       "      <td>00000736167c507e8ec225bd9e71f9e5</td>\n",
       "      <td>78245c2c3fba013a</td>\n",
       "      <td>b</td>\n",
       "      <td>searchResultPage</td>\n",
       "      <td>NaN</td>\n",
       "      <td>cbeb66d1bc1f1bc2</td>\n",
       "      <td>5.0</td>\n",
       "      <td>NaN</td>\n",
       "    </tr>\n",
       "    <tr>\n",
       "      <th>2016-03-07 00:52:26</th>\n",
       "      <td>1</td>\n",
       "      <td>1</td>\n",
       "      <td>00000c69fe345268935463abbfa5d5b3</td>\n",
       "      <td>c559c3be98dca8a4</td>\n",
       "      <td>a</td>\n",
       "      <td>searchResultPage</td>\n",
       "      <td>NaN</td>\n",
       "      <td>eb658e8722aad674</td>\n",
       "      <td>10.0</td>\n",
       "      <td>NaN</td>\n",
       "    </tr>\n",
       "    <tr>\n",
       "      <th>2016-03-02 14:53:05</th>\n",
       "      <td>2</td>\n",
       "      <td>2</td>\n",
       "      <td>00003bfdab715ee59077a3670331b787</td>\n",
       "      <td>760bf89817ce4b08</td>\n",
       "      <td>a</td>\n",
       "      <td>checkin</td>\n",
       "      <td>30.0</td>\n",
       "      <td>f99a9fc1f7fdd21e</td>\n",
       "      <td>NaN</td>\n",
       "      <td>NaN</td>\n",
       "    </tr>\n",
       "    <tr>\n",
       "      <th>2016-03-02 22:27:01</th>\n",
       "      <td>3</td>\n",
       "      <td>3</td>\n",
       "      <td>0000465cd7c35ad2bdeafec953e08c1a</td>\n",
       "      <td>fb905603d31b2071</td>\n",
       "      <td>a</td>\n",
       "      <td>checkin</td>\n",
       "      <td>60.0</td>\n",
       "      <td>e5626962a6939a75</td>\n",
       "      <td>NaN</td>\n",
       "      <td>10.0</td>\n",
       "    </tr>\n",
       "    <tr>\n",
       "      <th>2016-03-02 09:50:23</th>\n",
       "      <td>4</td>\n",
       "      <td>4</td>\n",
       "      <td>000050cbb4ef5b42b16c4d2cf69e6358</td>\n",
       "      <td>c2bf5e5172a892dc</td>\n",
       "      <td>a</td>\n",
       "      <td>checkin</td>\n",
       "      <td>30.0</td>\n",
       "      <td>787dd6a4c371cbf9</td>\n",
       "      <td>NaN</td>\n",
       "      <td>NaN</td>\n",
       "    </tr>\n",
       "  </tbody>\n",
       "</table>\n",
       "</div>"
      ],
      "text/plain": [
       "                     Unnamed: 0  Unnamed: 0.1  \\\n",
       "timestamp                                       \n",
       "2016-03-01 10:38:42           0             0   \n",
       "2016-03-07 00:52:26           1             1   \n",
       "2016-03-02 14:53:05           2             2   \n",
       "2016-03-02 22:27:01           3             3   \n",
       "2016-03-02 09:50:23           4             4   \n",
       "\n",
       "                                                 uuid        session_id group  \\\n",
       "timestamp                                                                       \n",
       "2016-03-01 10:38:42  00000736167c507e8ec225bd9e71f9e5  78245c2c3fba013a     b   \n",
       "2016-03-07 00:52:26  00000c69fe345268935463abbfa5d5b3  c559c3be98dca8a4     a   \n",
       "2016-03-02 14:53:05  00003bfdab715ee59077a3670331b787  760bf89817ce4b08     a   \n",
       "2016-03-02 22:27:01  0000465cd7c35ad2bdeafec953e08c1a  fb905603d31b2071     a   \n",
       "2016-03-02 09:50:23  000050cbb4ef5b42b16c4d2cf69e6358  c2bf5e5172a892dc     a   \n",
       "\n",
       "                               action  checkin           page_id  n_results  \\\n",
       "timestamp                                                                     \n",
       "2016-03-01 10:38:42  searchResultPage      NaN  cbeb66d1bc1f1bc2        5.0   \n",
       "2016-03-07 00:52:26  searchResultPage      NaN  eb658e8722aad674       10.0   \n",
       "2016-03-02 14:53:05           checkin     30.0  f99a9fc1f7fdd21e        NaN   \n",
       "2016-03-02 22:27:01           checkin     60.0  e5626962a6939a75        NaN   \n",
       "2016-03-02 09:50:23           checkin     30.0  787dd6a4c371cbf9        NaN   \n",
       "\n",
       "                     result_position  \n",
       "timestamp                             \n",
       "2016-03-01 10:38:42              NaN  \n",
       "2016-03-07 00:52:26              NaN  \n",
       "2016-03-02 14:53:05              NaN  \n",
       "2016-03-02 22:27:01             10.0  \n",
       "2016-03-02 09:50:23              NaN  "
      ]
     },
     "execution_count": 71,
     "metadata": {},
     "output_type": "execute_result"
    }
   ],
   "source": [
    "df.head()"
   ]
  },
  {
   "cell_type": "code",
   "execution_count": 118,
   "metadata": {
    "collapsed": false
   },
   "outputs": [],
   "source": [
    "def CRT(df):\n",
    "    clickthroughrate = float(len(d['action'][d['action'] == 'visitPage'])) / float(len(d['action'][d['action'] == 'searchResultPage']))\n",
    "    return clickthroughrate\n",
    "\n",
    "def ZeroResults(df):\n",
    "    zero_results = (float(len(d['n_results'][d['n_results'] == 0])) / float(len(d['action'][d['action'] == 'searchResultPage'])))\n",
    "    return zero_results\n",
    "\n",
    "def bars(list_means, list_SEM, title, ylabel):\n",
    "    bar_width = 0.35\n",
    "    \n",
    "    index = np.arange(3)\n",
    "    rects = ax.bar(range(len(list_means)), list_means, bar_width, color='k', alpha=0.5, yerr=list_SEM, error_kw=dict(ecolor='black', lw=2, capsize=5, capthick=2))\n",
    "\n",
    "    plt.title(title,size=15)\n",
    "    plt.xticks(index + bar_width / 2,('Overall', 'Group A','Group B'),size=13)\n",
    "    plt.ylabel(ylabel,size=13)\n",
    "    plt.yticks(np.round(np.linspace(0,max(list_means)+0.05,6),1),size=13)\n",
    "    plt.legend()\n",
    "    \n",
    "def pairs_bars(series_A, series_B, title, ylabel):\n",
    "    \n",
    "    index = np.arange(8)\n",
    "    rects1 = plt.bar(index, series_A, bar_width,\n",
    "                     alpha=0.5,\n",
    "                     color='b',\n",
    "                     label='A')\n",
    "    rects2 = plt.bar(index + bar_width, series_B, bar_width,\n",
    "                     alpha=0.5,\n",
    "                     color='r',\n",
    "                     label='B')\n",
    "\n",
    "    plt.title(title, size=15)\n",
    "    plt.ylim([0, 1])\n",
    "    plt.ylabel(ylabel, size=13)\n",
    "    plt.xlabel('Day', size=13)\n",
    "    plt.xticks(index + bar_width / 2, ('1', '2', '3', '4', '5','6','7','8'))\n",
    "\n",
    "    plt.tight_layout()\n",
    "    plt.legend()"
   ]
  },
  {
   "cell_type": "code",
   "execution_count": 73,
   "metadata": {
    "collapsed": false
   },
   "outputs": [],
   "source": [
    "crt = []\n",
    "crtA = []\n",
    "crtB = []\n",
    "\n",
    "for i, d in df.groupby(df.index.day):\n",
    "    crt.append(CRT(d))\n",
    "\n",
    "for i, d in df.groupby([df.index.day, df.group]):\n",
    "    if d['group'][0] == 'a':\n",
    "        crtA.append(CRT(d))\n",
    "    else:\n",
    "        crtB.append(CRT(d))"
   ]
  },
  {
   "cell_type": "code",
   "execution_count": 74,
   "metadata": {
    "collapsed": false
   },
   "outputs": [],
   "source": [
    "zr = []\n",
    "zrA = []\n",
    "zrB = []\n",
    "\n",
    "for i, d in df.groupby(df.index.day):\n",
    "    zr.append(ZeroResults(d))\n",
    "\n",
    "for i, d in df.groupby([df.index.day, df.group]):\n",
    "    if d['group'][0] == 'a':\n",
    "        zrA.append(ZeroResults(d))\n",
    "    else:\n",
    "        zrB.append(ZeroResults(d))"
   ]
  },
  {
   "cell_type": "code",
   "execution_count": 112,
   "metadata": {
    "collapsed": false
   },
   "outputs": [],
   "source": [
    "mean_CRT = sum(crt)/len(crt)\n",
    "mean_CRT_A = sum(crtA)/len(crtA)\n",
    "mean_CRT_B = sum(crtB)/len(crtB)\n",
    "\n",
    "error_overall = stats.sem(crt)\n",
    "error_a = stats.sem(crtA)\n",
    "error_b = stats.sem(crtB)\n",
    "\n",
    "CRT_ = [mean_CRT, mean_CRT_A, mean_CRT_B]\n",
    "error_crt = [error_overall, error_a, error_b]"
   ]
  },
  {
   "cell_type": "code",
   "execution_count": 95,
   "metadata": {
    "collapsed": true
   },
   "outputs": [],
   "source": [
    "mean_zr = sum(zr)/len(zr)\n",
    "mean_zr_A = sum(zrA)/len(zrA)\n",
    "mean_zr_B = sum(zrB)/len(zrB)\n",
    "\n",
    "error_overall_zr = stats.sem(zr)\n",
    "error_a_zr = stats.sem(zrA)\n",
    "error_b_zr = stats.sem(zrB)\n",
    "\n",
    "zr = [mean_zr, mean_zr_A, mean_zr_B]\n",
    "error_zr = [error_overall_zr, error_a_zr, error_b_zr]"
   ]
  },
  {
   "cell_type": "code",
   "execution_count": 119,
   "metadata": {
    "collapsed": false
   },
   "outputs": [
    {
     "data": {
      "image/png": "[encoded data removed]",
      "text/plain": [
       "<matplotlib.figure.Figure at 0x110fdfa10>"
      ]
     },
     "metadata": {},
     "output_type": "display_data"
    }
   ],
   "source": [
    "title = 'Daily clickthrough rate'\n",
    "ylabel = 'CRT'\n",
    "fig = plt.figure(figsize = [16,8])\n",
    "ax = fig.add_subplot(221)\n",
    "bars(CRT_, error_crt, title, ylabel)\n",
    "ax2 = fig.add_subplot(222)\n",
    "pairs_bars(crtA,crtB,title, ylabel)\n",
    "\n",
    "title2 = 'Daily zero results rate'\n",
    "ylabel2 = 'ZR'\n",
    "ax = fig.add_subplot(223)\n",
    "bars(zr, error_zr, title2, ylabel2)\n",
    "ax2 = fig.add_subplot(224)\n",
    "pairs_bars(zrA,zrB,title2,ylabel2)"
   ]
  },
  {
   "cell_type": "code",
   "execution_count": null,
   "metadata": {
    "collapsed": true
   },
   "outputs": [],
   "source": []
  },
  {
   "cell_type": "code",
   "execution_count": null,
   "metadata": {
    "collapsed": true
   },
   "outputs": [],
   "source": []
  }
 ],
 "metadata": {
  "kernelspec": {
   "display_name": "Python 2",
   "language": "python",
   "name": "python2"
  },
  "language_info": {
   "codemirror_mode": {
    "name": "ipython",
    "version": 2
   },
   "file_extension": ".py",
   "mimetype": "text/x-python",
   "name": "python",
   "nbconvert_exporter": "python",
   "pygments_lexer": "ipython2",
   "version": "2.7.10"
  }
 },
 "nbformat": 4,
 "nbformat_minor": 0
}
